{
 "cells": [
  {
   "cell_type": "code",
   "execution_count": 3,
   "metadata": {},
   "outputs": [
    {
     "ename": "ValueError",
     "evalue": "embedded null character",
     "output_type": "error",
     "traceback": [
      "\u001b[1;31m---------------------------------------------------------------------------\u001b[0m",
      "\u001b[1;31mValueError\u001b[0m                                Traceback (most recent call last)",
      "\u001b[1;32mc:\\0_Git_Iman\\Term_project.github.io\\CSV_to_JSON.ipynb Cell 1\u001b[0m line \u001b[0;36m9\n\u001b[0;32m      <a href='vscode-notebook-cell:/c%3A/0_Git_Iman/Term_project.github.io/CSV_to_JSON.ipynb#W0sZmlsZQ%3D%3D?line=5'>6</a>\u001b[0m         df \u001b[39m=\u001b[39m pd\u001b[39m.\u001b[39mread_csv(file)\n\u001b[0;32m      <a href='vscode-notebook-cell:/c%3A/0_Git_Iman/Term_project.github.io/CSV_to_JSON.ipynb#W0sZmlsZQ%3D%3D?line=6'>7</a>\u001b[0m     df\u001b[39m.\u001b[39mto_json(json_file_path, orient\u001b[39m=\u001b[39m\u001b[39m'\u001b[39m\u001b[39mrecords\u001b[39m\u001b[39m'\u001b[39m, date_format\u001b[39m=\u001b[39m\u001b[39m'\u001b[39m\u001b[39miso\u001b[39m\u001b[39m'\u001b[39m)\n\u001b[1;32m----> <a href='vscode-notebook-cell:/c%3A/0_Git_Iman/Term_project.github.io/CSV_to_JSON.ipynb#W0sZmlsZQ%3D%3D?line=8'>9</a>\u001b[0m csv_to_json(\u001b[39m'\u001b[39;49m\u001b[39mC:\u001b[39;49m\u001b[39m\\0\u001b[39;49;00m\u001b[39m_Git_Iman\u001b[39;49m\u001b[39m\\\u001b[39;49m\u001b[39mTerm_project.github.io\u001b[39;49m\u001b[39m\\\u001b[39;49m\u001b[39msoil_clean_grouped.csv\u001b[39;49m\u001b[39m'\u001b[39;49m, \n\u001b[0;32m     <a href='vscode-notebook-cell:/c%3A/0_Git_Iman/Term_project.github.io/CSV_to_JSON.ipynb#W0sZmlsZQ%3D%3D?line=9'>10</a>\u001b[0m             \u001b[39m'\u001b[39;49m\u001b[39mC:\u001b[39;49m\u001b[39m\\0\u001b[39;49;00m\u001b[39m_Git_Iman\u001b[39;49m\u001b[39m\\\u001b[39;49m\u001b[39mTerm_project.github.io\u001b[39;49m\u001b[39m\\\u001b[39;49m\u001b[39msoil_clean_grouped.json\u001b[39;49m\u001b[39m'\u001b[39;49m)\n",
      "\u001b[1;32mc:\\0_Git_Iman\\Term_project.github.io\\CSV_to_JSON.ipynb Cell 1\u001b[0m line \u001b[0;36m5\n\u001b[0;32m      <a href='vscode-notebook-cell:/c%3A/0_Git_Iman/Term_project.github.io/CSV_to_JSON.ipynb#W0sZmlsZQ%3D%3D?line=2'>3</a>\u001b[0m \u001b[39mdef\u001b[39;00m \u001b[39mcsv_to_json\u001b[39m(csv_file_path, json_file_path):\n\u001b[0;32m      <a href='vscode-notebook-cell:/c%3A/0_Git_Iman/Term_project.github.io/CSV_to_JSON.ipynb#W0sZmlsZQ%3D%3D?line=3'>4</a>\u001b[0m     \u001b[39m# Open the CSV file, ignoring null characters\u001b[39;00m\n\u001b[1;32m----> <a href='vscode-notebook-cell:/c%3A/0_Git_Iman/Term_project.github.io/CSV_to_JSON.ipynb#W0sZmlsZQ%3D%3D?line=4'>5</a>\u001b[0m     \u001b[39mwith\u001b[39;00m \u001b[39mopen\u001b[39;49m(csv_file_path, \u001b[39m'\u001b[39;49m\u001b[39mr\u001b[39;49m\u001b[39m'\u001b[39;49m, encoding\u001b[39m=\u001b[39;49m\u001b[39m'\u001b[39;49m\u001b[39mutf-8\u001b[39;49m\u001b[39m'\u001b[39;49m, errors\u001b[39m=\u001b[39;49m\u001b[39m'\u001b[39;49m\u001b[39mignore\u001b[39;49m\u001b[39m'\u001b[39;49m) \u001b[39mas\u001b[39;00m file:\n\u001b[0;32m      <a href='vscode-notebook-cell:/c%3A/0_Git_Iman/Term_project.github.io/CSV_to_JSON.ipynb#W0sZmlsZQ%3D%3D?line=5'>6</a>\u001b[0m         df \u001b[39m=\u001b[39m pd\u001b[39m.\u001b[39mread_csv(file)\n\u001b[0;32m      <a href='vscode-notebook-cell:/c%3A/0_Git_Iman/Term_project.github.io/CSV_to_JSON.ipynb#W0sZmlsZQ%3D%3D?line=6'>7</a>\u001b[0m     df\u001b[39m.\u001b[39mto_json(json_file_path, orient\u001b[39m=\u001b[39m\u001b[39m'\u001b[39m\u001b[39mrecords\u001b[39m\u001b[39m'\u001b[39m, date_format\u001b[39m=\u001b[39m\u001b[39m'\u001b[39m\u001b[39miso\u001b[39m\u001b[39m'\u001b[39m)\n",
      "File \u001b[1;32m~\\AppData\\Roaming\\Python\\Python311\\site-packages\\IPython\\core\\interactiveshell.py:286\u001b[0m, in \u001b[0;36m_modified_open\u001b[1;34m(file, *args, **kwargs)\u001b[0m\n\u001b[0;32m    279\u001b[0m \u001b[39mif\u001b[39;00m file \u001b[39min\u001b[39;00m {\u001b[39m0\u001b[39m, \u001b[39m1\u001b[39m, \u001b[39m2\u001b[39m}:\n\u001b[0;32m    280\u001b[0m     \u001b[39mraise\u001b[39;00m \u001b[39mValueError\u001b[39;00m(\n\u001b[0;32m    281\u001b[0m         \u001b[39mf\u001b[39m\u001b[39m\"\u001b[39m\u001b[39mIPython won\u001b[39m\u001b[39m'\u001b[39m\u001b[39mt let you open fd=\u001b[39m\u001b[39m{\u001b[39;00mfile\u001b[39m}\u001b[39;00m\u001b[39m by default \u001b[39m\u001b[39m\"\u001b[39m\n\u001b[0;32m    282\u001b[0m         \u001b[39m\"\u001b[39m\u001b[39mas it is likely to crash IPython. If you know what you are doing, \u001b[39m\u001b[39m\"\u001b[39m\n\u001b[0;32m    283\u001b[0m         \u001b[39m\"\u001b[39m\u001b[39myou can use builtins\u001b[39m\u001b[39m'\u001b[39m\u001b[39m open.\u001b[39m\u001b[39m\"\u001b[39m\n\u001b[0;32m    284\u001b[0m     )\n\u001b[1;32m--> 286\u001b[0m \u001b[39mreturn\u001b[39;00m io_open(file, \u001b[39m*\u001b[39;49margs, \u001b[39m*\u001b[39;49m\u001b[39m*\u001b[39;49mkwargs)\n",
      "\u001b[1;31mValueError\u001b[0m: embedded null character"
     ]
    }
   ],
   "source": [
    "import pandas as pd\n",
    "\n",
    "def csv_to_json(csv_file_path, json_file_path):\n",
    "    # Open the CSV file, ignoring null characters\n",
    "    with open(csv_file_path, 'r', encoding='utf-8', errors='ignore') as file:\n",
    "        df = pd.read_csv(file)\n",
    "    df.to_json(json_file_path, orient='records', date_format='iso')\n",
    "\n",
    "csv_to_json('C:\\0_Git_Iman\\Term_project.github.io\\soil_clean_grouped.csv', \n",
    "            'C:\\0_Git_Iman\\Term_project.github.io\\soil_clean_grouped.json')"
   ]
  }
 ],
 "metadata": {
  "kernelspec": {
   "display_name": "Python 3",
   "language": "python",
   "name": "python3"
  },
  "language_info": {
   "codemirror_mode": {
    "name": "ipython",
    "version": 3
   },
   "file_extension": ".py",
   "mimetype": "text/x-python",
   "name": "python",
   "nbconvert_exporter": "python",
   "pygments_lexer": "ipython3",
   "version": "3.11.5"
  }
 },
 "nbformat": 4,
 "nbformat_minor": 2
}
