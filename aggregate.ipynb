{
 "cells": [
  {
   "cell_type": "code",
   "execution_count": 1,
   "metadata": {},
   "outputs": [],
   "source": [
    "import numpy as np\n",
    "import pandas as pd"
   ]
  },
  {
   "cell_type": "markdown",
   "metadata": {},
   "source": [
    "# Water"
   ]
  },
  {
   "cell_type": "code",
   "execution_count": 2,
   "metadata": {},
   "outputs": [],
   "source": [
    "df_water = pd.read_csv(\"Water_Midden_Oakwoods.csv\", \n",
    "                       dtype={\n",
    "                           \"TN\":'category',\n",
    "                           \"TP\":'category',\n",
    "                           \"disNH4\":'category',\n",
    "                           \"disNO3\":'category',\n",
    "                           \"disPO4\":'category',\n",
    "                           }, \n",
    "                       encoding='cp1252')\n",
    "# df_water.dtypes"
   ]
  },
  {
   "cell_type": "code",
   "execution_count": 3,
   "metadata": {},
   "outputs": [
    {
     "data": {
      "text/plain": [
       "Index(['username', 'map_label', 'project_code', 'sampleMedia', 'combinedID',\n",
       "       'sampleID', 'internalSampleID', 'visitDate', 'dateAnalTPTN', 'TN', 'TP',\n",
       "       'dateAnalDiss', 'disNH4', 'disNO3', 'disPO4', 'dateAnalTDPTDN', 'TDN',\n",
       "       'TDP', 'locName', 'Pool Volume (cu ft)', 'Location Sortable',\n",
       "       'specific_location', 'samp_type', 'notes', 'samp_notes', 'y', 'x'],\n",
       "      dtype='object')"
      ]
     },
     "execution_count": 3,
     "metadata": {},
     "output_type": "execute_result"
    }
   ],
   "source": [
    "df_water.columns"
   ]
  },
  {
   "cell_type": "code",
   "execution_count": 4,
   "metadata": {},
   "outputs": [],
   "source": [
    "df_water[\"TN\"] = df_water[\"TN\"].replace('< MDL', 0.075).replace('<MDL', 0.075)\n",
    "df_water[\"TP\"] = df_water[\"TP\"].replace('< MDL', 0.015).replace('<MDL', 0.015)\n",
    "df_water[\"disNO3\"] = df_water[\"disNO3\"].replace('< MDL', 0.05).replace('<MDL', 0.05)\n",
    "df_water[\"disNH4\"] = df_water[\"disNH4\"].replace('< MDL', 0.02).replace('<MDL', 0.02)\n",
    "df_water[\"disPO4\"] = df_water[\"disPO4\"].replace('< MDL', 0.01).replace('<MDL', 0.01)"
   ]
  },
  {
   "cell_type": "code",
   "execution_count": 5,
   "metadata": {},
   "outputs": [],
   "source": [
    "# df_water_clean = df_water.dropna(thresh=5).replace('< MDL', 0).replace('<MDL', 0).replace('lost sample', np.nan)\n",
    "df_water_clean = df_water.dropna(thresh=10).replace('lost sample', np.nan)\n",
    "\n",
    "df_water_clean = df_water_clean.astype({\n",
    "\"sampleMedia\"         :     object,\n",
    "\"sampleID\"            :     object,\n",
    "\"visitDate\"           :    np.float64,\n",
    "\"TN\"                  :   np.float64,\n",
    "\"TP\"                  :     np.float64,\n",
    "\"disNH4\"              :     np.float64,\n",
    "\"disNO3\"              :     np.float64,\n",
    "\"disPO4\"              :     np.float64,\n",
    "\"locName\"             :     \"category\",\n",
    "\"Pool Volume (cu ft)\" :    np.float64,\n",
    "\"samp_notes\"          :     object,\n",
    "\"y\"                   :    np.float64,\n",
    "\"x\"                   :    np.float64,\n",
    "})\n",
    "df_water_clean.visitDate = (pd.to_datetime(df_water_clean.visitDate,format= \"%Y%m%d\"))\n",
    "# df_water_clean.head(1)"
   ]
  },
  {
   "cell_type": "code",
   "execution_count": 6,
   "metadata": {},
   "outputs": [
    {
     "name": "stderr",
     "output_type": "stream",
     "text": [
      "C:\\Users\\Iman\\AppData\\Local\\Temp\\ipykernel_7992\\1260132293.py:1: FutureWarning: The default of observed=False is deprecated and will be changed to True in a future version of pandas. Pass observed=False to retain current behavior or observed=True to adopt the future default and silence this warning.\n",
      "  df_water_clean_grouped = df_water_clean.groupby('locName').agg(\n"
     ]
    }
   ],
   "source": [
    "df_water_clean_grouped = df_water_clean.groupby('locName').agg(\n",
    "    Total_Mean_TP=('TP', 'mean'),\n",
    "    # Totall_Max_TP=('TP', 'max'),\n",
    "    # Totall_Min_TP=('TP', 'min'),\n",
    "\n",
    "    Total_Mean_TN=('TN', 'mean'),\n",
    "    # Totall_Max_TN=('TN', 'max'),\n",
    "    # Totall_Min_TN=('TN', 'min'),\n",
    "\n",
    "    Total_Mean_disNH4=('disNH4', 'mean'),\n",
    "    # Totall_Max_disNH4=('disNH4', 'max'),\n",
    "    # Totall_Min_disNH4=('disNH4', 'min'),\n",
    "\n",
    "    Total_Mean_disNO3=('disNO3', 'mean'),\n",
    "    # Totall_Max_disNO3=('disNO3', 'max'),\n",
    "    # Totall_Min_disNO3=('disNO3', 'min'),\n",
    "\n",
    "    Total_Mean_disPO4=('disPO4', 'mean'),\n",
    "    # Totall_Max_disPO4=('disPO4', 'max'),\n",
    "    # Totall_Min_disPO4=('disPO4', 'min'),\n",
    "    \n",
    "\n",
    "    ).reset_index()\n",
    "\n",
    "result = pd.merge(df_water_clean, df_water_clean_grouped, on='locName', how='left')\n",
    "\n"
   ]
  },
  {
   "cell_type": "code",
   "execution_count": 7,
   "metadata": {},
   "outputs": [],
   "source": [
    "\n",
    "# columns_to_aggregate = ['TP', 'TN', 'disNH4', 'disNO3', 'disPO4']\n",
    "\n",
    "# aggregation_instructions = {f'Total_Mean_{col}': (col, 'mean') for col in columns_to_aggregate}\n",
    "\n",
    "# df_water_clean_grouped = df_water_clean.groupby('locName').agg(\n",
    "#     **aggregation_instructions\n",
    "# ).reset_index()\n",
    "\n",
    "# result3 = pd.merge(df_water_clean, df_water_clean_grouped, on='locName', how='left')\n",
    "\n"
   ]
  },
  {
   "cell_type": "code",
   "execution_count": 8,
   "metadata": {},
   "outputs": [
    {
     "name": "stderr",
     "output_type": "stream",
     "text": [
      "C:\\Users\\Iman\\AppData\\Local\\Temp\\ipykernel_7992\\3118740268.py:1: FutureWarning: The default of observed=False is deprecated and will be changed to True in a future version of pandas. Pass observed=False to retain current behavior or observed=True to adopt the future default and silence this warning.\n",
      "  df_water_clean_grouped_date = df_water_clean.groupby(['locName', 'visitDate']).agg(\n"
     ]
    }
   ],
   "source": [
    "df_water_clean_grouped_date = df_water_clean.groupby(['locName', 'visitDate']).agg(\n",
    "    Visit_Mean_TP=('TP', 'mean'),\n",
    "    Visit_Mean_TN=('TN', 'mean'),\n",
    "    Visit_Mean_disNH4=('disNH4', 'mean'),\n",
    "    Visit_Mean_disNO3=('disNO3', 'mean'),\n",
    "    Visit_Mean_disPO4=('disPO4', 'mean'),\n",
    "    ).reset_index()\n",
    "\n",
    "result2 = pd.merge(result, df_water_clean_grouped_date, on=['locName', \"visitDate\"], how='left')"
   ]
  },
  {
   "cell_type": "code",
   "execution_count": 9,
   "metadata": {},
   "outputs": [],
   "source": [
    "cols = [\n",
    "    'sampleID',\n",
    "    'visitDate',\n",
    "    'TN',\n",
    "    'TP',\n",
    "    'disNH4',\n",
    "    'disNO3',\n",
    "    'disPO4',\n",
    "    'TDN',\n",
    "    'TDP',\n",
    "    'locName',\n",
    "    'Pool Volume (cu ft)',\n",
    "    'samp_type',\n",
    "    'notes',\n",
    "    'samp_notes',\n",
    "    'y',\n",
    "    'x',\n",
    "    'Total_Mean_TP',\n",
    " 'Total_Mean_TN',\n",
    " 'Total_Mean_disNH4',\n",
    " 'Total_Mean_disNO3',\n",
    " 'Total_Mean_disPO4',\n",
    " 'Visit_Mean_TP',\n",
    " 'Visit_Mean_TN',\n",
    " 'Visit_Mean_disNH4',\n",
    " 'Visit_Mean_disNO3',\n",
    " 'Visit_Mean_disPO4']"
   ]
  },
  {
   "cell_type": "code",
   "execution_count": 10,
   "metadata": {},
   "outputs": [],
   "source": [
    "water_col_round = ['Total_Mean_TP', 'Total_Mean_TN', 'Total_Mean_disNH4',\n",
    "       'Total_Mean_disNO3', 'Total_Mean_disPO4', 'Visit_Mean_TP',\n",
    "       'Visit_Mean_TN', 'Visit_Mean_disNH4', 'Visit_Mean_disNO3',\n",
    "       'Visit_Mean_disPO4']\n",
    "result2[water_col_round] = result2[water_col_round].round(4)"
   ]
  },
  {
   "cell_type": "code",
   "execution_count": 11,
   "metadata": {},
   "outputs": [],
   "source": [
    "result2[cols].to_csv(\"water_clean_grouped.csv\", index=False)"
   ]
  },
  {
   "cell_type": "markdown",
   "metadata": {},
   "source": [
    "# Soil Dataset"
   ]
  },
  {
   "cell_type": "code",
   "execution_count": 12,
   "metadata": {},
   "outputs": [],
   "source": [
    "df_soil = pd.read_csv(\"Soil_dataset.csv\", \n",
    "            dtype={\n",
    "                           \"TN\":'category',\n",
    "                           \"TP\":'category',\n",
    "                           \"m3.P\":'category',\n",
    "                           \"m3.Fe\":'category',\n",
    "                           \"m3.Al\":'category',\n",
    "                           \"SPSC\":'category',\n",
    "                           \"wEX.P\":'category',\n",
    "                           \"wEX.NH3\":'category',\n",
    "                           \"wEX.NOx\":'category',\n",
    "                           \"pH\":'category',\n",
    "                           \"EC\":'category',\n",
    "                           },\n",
    "            encoding='cp1252')"
   ]
  },
  {
   "cell_type": "code",
   "execution_count": 13,
   "metadata": {},
   "outputs": [],
   "source": [
    "# df_soil.query('sampleID == \"D00013\"').iloc[:, [8,9,10,11,12,13,14,15]]#.head()"
   ]
  },
  {
   "cell_type": "code",
   "execution_count": 14,
   "metadata": {},
   "outputs": [],
   "source": [
    "df_soil[\"TN\"] = df_soil[\"TN\"].replace('< MDL', '50').replace('<MDL', '50')\n",
    "df_soil[\"TP\"] = df_soil[\"TP\"].replace('< MDL', '10').replace('<MDL', '10')\n",
    "df_soil[\"m3.P\"] = df_soil[\"m3.P\"].replace('< MDL', '0.32').replace('<MDL', '0.32')\n",
    "df_soil[\"m3.Fe\"] = df_soil[\"m3.Fe\"].replace('< MDL', '0.11').replace('<MDL', '0.11')\n",
    "df_soil[\"m3.Al\"] = df_soil[\"m3.Al\"].replace('< MDL', '3.33').replace('<MDL', '3.33')\n",
    "df_soil[\"wEX.P\"] = df_soil[\"wEX.P\"].replace('< MDL', '0.2').replace('<MDL', '0.2').replace('<mdl', '0.2')   \n",
    "df_soil[\"wEX.NH3\"] = df_soil[\"wEX.NH3\"].replace('< MDL', '0.4').replace('<MDL', '0.4')\n",
    "df_soil[\"wEX.NOx\"] = df_soil[\"wEX.NOx\"].replace('< MDL', '1.0').replace('<MDL', '1.0')\n"
   ]
  },
  {
   "cell_type": "code",
   "execution_count": 15,
   "metadata": {},
   "outputs": [],
   "source": [
    "# df_soil_clean.query('sampleID == \"D00013\"').iloc[:, [8,9,10,14,15]]#.head()\n",
    "# df_soil_clean.iloc[:, [8,9,10,14,15]].head()"
   ]
  },
  {
   "cell_type": "code",
   "execution_count": 16,
   "metadata": {},
   "outputs": [],
   "source": [
    "col_num_soil = [\n",
    "    'TP',  \n",
    "    'TN' ,\n",
    "    'm3.P',\n",
    "    'm3.Fe',\n",
    "    'm3.Al',\n",
    "    'SPSC',\n",
    "    'wEX.P',\n",
    "    'wEX.NH3',\n",
    "    'wEX.NOx',\n",
    "    'pH',\n",
    "    'EC'\n",
    "]   \n",
    "\n",
    "# df_soil_clean = (df_soil\n",
    "#                  .dropna(thresh=5)\n",
    "#                  .replace('< MDL', 0)\n",
    "#                  .replace('<MDL', 0)\n",
    "#                  .replace('lost sample', np.nan)\n",
    "#                  .replace(\",\",\"\")\n",
    "#                  .replace ('', np.nan))\n",
    "df_soil_clean = (df_soil\n",
    "                 .dropna(thresh=10)\n",
    "                #  .replace('< MDL', 0)\n",
    "                #  .replace('<MDL', 0)\n",
    "                 .replace('lost sample', np.nan)\n",
    "                 .replace(\",\",\"\")\n",
    "                 .replace ('', np.nan))\n",
    "import re\n",
    "# for col in col_num_soil:\n",
    "#     df_soil_clean[col] = df_soil_clean[col].str.replace(\"[^0-9]\", \"\", regex=True)\n",
    "\n",
    "for col in col_num_soil:\n",
    "    df_soil_clean[col] = df_soil_clean[col].str.replace(\",\", \"\", regex=True)\n",
    "\n",
    "df_soil_clean['wEX.P'] = df_soil_clean['wEX.P'].replace ('', np.nan)"
   ]
  },
  {
   "cell_type": "code",
   "execution_count": 17,
   "metadata": {},
   "outputs": [
    {
     "data": {
      "text/html": [
       "<div>\n",
       "<style scoped>\n",
       "    .dataframe tbody tr th:only-of-type {\n",
       "        vertical-align: middle;\n",
       "    }\n",
       "\n",
       "    .dataframe tbody tr th {\n",
       "        vertical-align: top;\n",
       "    }\n",
       "\n",
       "    .dataframe thead th {\n",
       "        text-align: right;\n",
       "    }\n",
       "</style>\n",
       "<table border=\"1\" class=\"dataframe\">\n",
       "  <thead>\n",
       "    <tr style=\"text-align: right;\">\n",
       "      <th></th>\n",
       "      <th>username</th>\n",
       "      <th>map_label</th>\n",
       "      <th>project_code</th>\n",
       "      <th>sampleMedia</th>\n",
       "      <th>combinedID</th>\n",
       "      <th>sampleID</th>\n",
       "      <th>internalSampleID</th>\n",
       "      <th>visitDate</th>\n",
       "      <th>dateAnalTPTN</th>\n",
       "      <th>TP</th>\n",
       "      <th>...</th>\n",
       "      <th>EC</th>\n",
       "      <th>samp_type</th>\n",
       "      <th>locName</th>\n",
       "      <th>Location Sortable</th>\n",
       "      <th>specific_location</th>\n",
       "      <th>samp_type.1</th>\n",
       "      <th>notes</th>\n",
       "      <th>samp_notes</th>\n",
       "      <th>y</th>\n",
       "      <th>x</th>\n",
       "    </tr>\n",
       "  </thead>\n",
       "  <tbody>\n",
       "    <tr>\n",
       "      <th>0</th>\n",
       "      <td>midden_BGSU</td>\n",
       "      <td>20-21</td>\n",
       "      <td>OAKWE</td>\n",
       "      <td>soil</td>\n",
       "      <td>OAKWE_20210527_D00013</td>\n",
       "      <td>D00013</td>\n",
       "      <td>A-20210527-20-01D</td>\n",
       "      <td>2021-05-27</td>\n",
       "      <td>20210615.0</td>\n",
       "      <td>10.0</td>\n",
       "      <td>...</td>\n",
       "      <td>NaN</td>\n",
       "      <td>sample</td>\n",
       "      <td>Wetland Pool 25</td>\n",
       "      <td>Wetland Pool 25</td>\n",
       "      <td>Pool</td>\n",
       "      <td>sample</td>\n",
       "      <td>This pool had the cloudiest water of the pools...</td>\n",
       "      <td>NaN</td>\n",
       "      <td>41.0239</td>\n",
       "      <td>-83.68451</td>\n",
       "    </tr>\n",
       "  </tbody>\n",
       "</table>\n",
       "<p>1 rows × 34 columns</p>\n",
       "</div>"
      ],
      "text/plain": [
       "      username map_label project_code sampleMedia             combinedID  \\\n",
       "0  midden_BGSU     20-21        OAKWE        soil  OAKWE_20210527_D00013   \n",
       "\n",
       "  sampleID   internalSampleID  visitDate  dateAnalTPTN    TP  ...  EC  \\\n",
       "0   D00013  A-20210527-20-01D 2021-05-27    20210615.0  10.0  ... NaN   \n",
       "\n",
       "   samp_type          locName  Location Sortable  specific_location  \\\n",
       "0     sample  Wetland Pool 25    Wetland Pool 25              Pool    \n",
       "\n",
       "   samp_type.1                                              notes  samp_notes  \\\n",
       "0       sample  This pool had the cloudiest water of the pools...         NaN   \n",
       "\n",
       "         y         x  \n",
       "0  41.0239 -83.68451  \n",
       "\n",
       "[1 rows x 34 columns]"
      ]
     },
     "execution_count": 17,
     "metadata": {},
     "output_type": "execute_result"
    }
   ],
   "source": [
    "df_soil_clean = df_soil_clean.astype({\n",
    "'username'           :    object,\n",
    "'map_label'          :    object,\n",
    "'project_code'       :    object,\n",
    "'sampleMedia'        :    object,\n",
    "'combinedID'         :    object,\n",
    "'sampleID'           :    object,\n",
    "'internalSampleID'   :    object,\n",
    "'visitDate'          :    np.int64,\n",
    "'dateAnalTPTN'       :    np.float64,\n",
    "'TP'                 :    np.float64,\n",
    "'TN'                 :    np.float64,\n",
    "'dateAnalM3ICP'      :    np.int64,\n",
    "'dateAnalM3Ex'       :    np.int64,\n",
    "'m3.P'               :    np.float64,\n",
    "'m3.Fe'              :    np.float64,\n",
    "'m3.Al'              :    np.float64,\n",
    "'SPSC'               :    np.float64,\n",
    "'dateAnalWE'         :    np.float64,\n",
    "'wEX.P'              :    np.float64,\n",
    "'wEX.NH3'            :    np.float64,\n",
    "'wEX.NOx'            :    np.float64,\n",
    "'dateAnalpH'         :    np.float64,\n",
    "'pH'                 :    np.float64,\n",
    "'dateAnalEC'         :    np.float64,\n",
    "'EC'                 :    np.float64,\n",
    "'samp_type'          :    object,\n",
    "'locName'            :    object,\n",
    "'Location Sortable'  :    object,\n",
    "'specific_location'  :    object,\n",
    "'samp_type.1'        :    object,\n",
    "'notes'              :    object,\n",
    "'samp_notes'         :    object,\n",
    "'y'                  :    np.float64,\n",
    "'x'                  :    np.float64,\n",
    "})\n",
    "df_soil_clean.visitDate = (pd.to_datetime(df_soil_clean.visitDate,format= \"%Y%m%d\"))\n",
    "df_soil_clean.head(1)"
   ]
  },
  {
   "cell_type": "code",
   "execution_count": 18,
   "metadata": {},
   "outputs": [],
   "source": [
    "df_soil_clean_grouped = df_soil_clean.groupby('locName').agg(\n",
    "    Total_Mean_TP=('TP', 'mean'),\n",
    "    # Max_TP=('TP', 'max'),\n",
    "    # Min_TP=('TP', 'min'),\n",
    "\n",
    "    Total_Mean_TN=('TN', 'mean'),\n",
    "    # Max_TN=('TN', 'max'),\n",
    "    # Min_TN=('TN', 'min'),\n",
    "\n",
    "    Total_Mean_m3_P=('m3.P', 'mean'),\n",
    "    # Max_m3_P=('m3.P', 'max'),\n",
    "    # Min_m3_P=('m3.P', 'min'),\n",
    "\n",
    "    Total_Mean_m3_Fe=('m3.Fe', 'mean'),\n",
    "    # Max_m3_Fe=('m3.Fe', 'max'),\n",
    "    # Min_m3_Fe=('m3.Fe', 'min'),\n",
    "\n",
    "    Total_Mean_m3_Al=('m3.Al', 'mean'),\n",
    "    # Max_m3_Al=('m3.Al', 'max'),\n",
    "    # Min_m3_Al=('m3.Al', 'min'),\n",
    "\n",
    "    Total_Mean_SPSC=('SPSC', 'mean'),\n",
    "    # Max_SPSC=('SPSC', 'max'),\n",
    "    # Min_SPSC=('SPSC', 'min'),\n",
    "\n",
    "    Total_Mean_wEX_P=('wEX.P', 'mean'),\n",
    "    # Max_wEX_P=('wEX.P', 'max'),\n",
    "    # Min_wEX_P=('wEX.P', 'min'),\n",
    "\n",
    "    Total_Mean_wEX_NH3=('wEX.NH3', 'mean'),\n",
    "    # Max_wEX_NH3=('wEX.NH3', 'max'),\n",
    "    # Min_wEX_NH3=('wEX.NH3', 'min'),\n",
    "\n",
    "    Total_Mean_wEX_NOx=('wEX.NOx', 'mean'),\n",
    "    # Max_wEX_NOx=('wEX.NOx', 'max'),\n",
    "    # Min_wEX_NOx=('wEX.NOx', 'min'),\n",
    "\n",
    "    Total_Mean_pH=('pH', 'mean'),\n",
    "    # Max_pH=('pH', 'max'),\n",
    "    # Min_pH=('pH', 'min'),\n",
    "\n",
    "    Total_Mean_EC=('EC', 'mean'),\n",
    "    # Max_EC=('EC', 'max'),\n",
    "    # Min_EC=('EC', 'min'),\n",
    "    \n",
    "\n",
    "\n",
    ").reset_index()\n",
    "result_soil = pd.merge(df_soil_clean, df_soil_clean_grouped, on='locName', how='left')"
   ]
  },
  {
   "cell_type": "code",
   "execution_count": 19,
   "metadata": {},
   "outputs": [],
   "source": [
    "df_soil_clean_grouped_date = df_soil_clean.groupby(['locName', 'visitDate']).agg(\n",
    "    Visit_Mean_TP=('TP', 'mean'),\n",
    "    Visit_Mean_TN=('TN', 'mean'),\n",
    "    Visit_Mean_m3_P=('m3.P', 'mean'),\n",
    "    Visit_Mean_m3_Fe=('m3.Fe', 'mean'),\n",
    "    Visit_Mean_m3_Al=('m3.Al', 'mean'),\n",
    "    Visit_Mean_SPSC=('SPSC', 'mean'),\n",
    "    Visit_Mean_wEX_P=('wEX.P', 'mean'),\n",
    "    Visit_Mean_wEX_NH3=('wEX.NH3', 'mean'),\n",
    "    Visit_Mean_wEX_NOx=('wEX.NOx', 'mean'),\n",
    "    Visit_Mean_pH=('pH', 'mean'),\n",
    "    Visit_Mean_EC=('EC', 'mean'),\n",
    "    ).reset_index()\n",
    "\n",
    "result_soil2 = pd.merge(result_soil, df_soil_clean_grouped_date, on=['locName', \"visitDate\"], how='left')"
   ]
  },
  {
   "cell_type": "code",
   "execution_count": 20,
   "metadata": {},
   "outputs": [],
   "source": [
    "soil_col_round = ['Total_Mean_TP', 'Total_Mean_TN', 'Total_Mean_m3_P',\n",
    "       'Total_Mean_m3_Fe', 'Total_Mean_m3_Al', 'Total_Mean_SPSC',\n",
    "       'Total_Mean_wEX_P', 'Total_Mean_wEX_NH3', 'Total_Mean_wEX_NOx',\n",
    "       'Total_Mean_pH', 'Total_Mean_EC', 'Visit_Mean_TP', 'Visit_Mean_TN',\n",
    "       'Visit_Mean_m3_P', 'Visit_Mean_m3_Fe', 'Visit_Mean_m3_Al',\n",
    "       'Visit_Mean_SPSC', 'Visit_Mean_wEX_P', 'Visit_Mean_wEX_NH3',\n",
    "       'Visit_Mean_wEX_NOx', 'Visit_Mean_pH', 'Visit_Mean_EC']\n",
    "result_soil2[soil_col_round] = result_soil2[soil_col_round].round(4)"
   ]
  },
  {
   "cell_type": "code",
   "execution_count": 21,
   "metadata": {},
   "outputs": [],
   "source": [
    "result_soil2.to_csv('soil_clean_grouped.csv', index=False)"
   ]
  },
  {
   "cell_type": "markdown",
   "metadata": {},
   "source": [
    "# Merge with Pool info"
   ]
  },
  {
   "cell_type": "code",
   "execution_count": 22,
   "metadata": {},
   "outputs": [],
   "source": [
    "\n",
    "df_soil = pd.read_csv(\"soil_clean_grouped.csv\")\n",
    "# df_soil.locName.sort_values().unique().tolist()\n"
   ]
  },
  {
   "cell_type": "code",
   "execution_count": 23,
   "metadata": {},
   "outputs": [],
   "source": [
    "pool_name=[\n",
    "'Wetland Pool 1',\n",
    "'Wetland Pool 2',\n",
    "'Wetland Pool 3',\n",
    "'Wetland Pool 4',\n",
    "'Wetland Pool 5',\n",
    "'Wetland Pool 6',\n",
    "'Wetland Pool 7',\n",
    "'Wetland Pool 8',\n",
    "'Wetland Pool 9',\n",
    "'Wetland Pool 10',\n",
    "'Wetland Pool 11',\n",
    "'Wetland Pool 12',\n",
    "'Wetland Pool 13',\n",
    "'Wetland Pool 14',\n",
    "'Wetland Pool 15',\n",
    "'Wetland Pool 16',\n",
    "'Wetland Pool 17',\n",
    "'Wetland Pool 18',\n",
    "'Wetland Pool 19',\n",
    "'Wetland Pool 20',\n",
    "'Wetland Pool 21',\n",
    "'Wetland Pool 22',\n",
    "'Wetland Pool 23',\n",
    "'Wetland Pool 24',\n",
    "'Wetland Pool 25',\n",
    "'Wetland Pool 26',\n",
    "'Wetland Pool 27',\n",
    "'Wetland Pool 28',\n",
    "'Wetland Pool 29',\n",
    "'Wetland Pool 30',\n",
    "'Wetland Pool 31',\n",
    "'Wetland Pool 32',\n",
    "'Wetland Pool 33',\n",
    "'Wetland Pool 34',\n",
    "'Wetland Pool 35',\n",
    "'Wetland Pool 36',\n",
    "'Wetland Pool 37',\n",
    "'Wetland Pool 38',\n",
    "'Wetland Pool 39',\n",
    "'Wetland Pool 40',\n",
    "'Wetland Pool 41',\n",
    "'Wetland Pool 42',\n",
    "'Wetland Pool 43',\n",
    "'Aurand Run connection to P1',\n",
    "'Aurand Run downstream',\n",
    "'Aurand Run upstream',\n",
    "]"
   ]
  },
  {
   "cell_type": "code",
   "execution_count": 24,
   "metadata": {},
   "outputs": [],
   "source": [
    "df_pool = pd.read_excel(\"PoolData.xlsx\")\n",
    "df_pool['locName'] = pool_name\n"
   ]
  },
  {
   "cell_type": "code",
   "execution_count": 25,
   "metadata": {},
   "outputs": [],
   "source": [
    "merge_col =[\n",
    "    'Wetland_ID', 'Max Depth  (ft)', \n",
    "    'Slope Range', 'Bottom Deviation of wetland', \n",
    "    'Pool Volume (cu ft)','locName'\n",
    "]\n"
   ]
  },
  {
   "cell_type": "code",
   "execution_count": 26,
   "metadata": {},
   "outputs": [
    {
     "data": {
      "text/html": [
       "<div>\n",
       "<style scoped>\n",
       "    .dataframe tbody tr th:only-of-type {\n",
       "        vertical-align: middle;\n",
       "    }\n",
       "\n",
       "    .dataframe tbody tr th {\n",
       "        vertical-align: top;\n",
       "    }\n",
       "\n",
       "    .dataframe thead th {\n",
       "        text-align: right;\n",
       "    }\n",
       "</style>\n",
       "<table border=\"1\" class=\"dataframe\">\n",
       "  <thead>\n",
       "    <tr style=\"text-align: right;\">\n",
       "      <th></th>\n",
       "      <th>Wetland_ID</th>\n",
       "      <th>Max Depth  (ft)</th>\n",
       "      <th>Slope Range</th>\n",
       "      <th>Bottom Deviation of wetland</th>\n",
       "      <th>Pool Volume (cu ft)</th>\n",
       "      <th>locName</th>\n",
       "    </tr>\n",
       "  </thead>\n",
       "  <tbody>\n",
       "    <tr>\n",
       "      <th>0</th>\n",
       "      <td>P-01</td>\n",
       "      <td>6.0</td>\n",
       "      <td>14:1 to 35:1</td>\n",
       "      <td>770.0</td>\n",
       "      <td>353316.0</td>\n",
       "      <td>Wetland Pool 1</td>\n",
       "    </tr>\n",
       "  </tbody>\n",
       "</table>\n",
       "</div>"
      ],
      "text/plain": [
       "  Wetland_ID  Max Depth  (ft)   Slope Range  Bottom Deviation of wetland  \\\n",
       "0       P-01              6.0  14:1 to 35:1                        770.0   \n",
       "\n",
       "   Pool Volume (cu ft)         locName  \n",
       "0             353316.0  Wetland Pool 1  "
      ]
     },
     "execution_count": 26,
     "metadata": {},
     "output_type": "execute_result"
    }
   ],
   "source": [
    "df_pool[merge_col].head(1)"
   ]
  },
  {
   "cell_type": "code",
   "execution_count": 27,
   "metadata": {},
   "outputs": [],
   "source": [
    "df_soil2 = pd.merge(df_soil, df_pool[merge_col], on='locName', how='left')\n",
    "df_soil2.to_csv('soil_clean_grouped.csv', index=False)"
   ]
  },
  {
   "cell_type": "code",
   "execution_count": 28,
   "metadata": {},
   "outputs": [],
   "source": [
    "df_water = pd.read_csv('water_clean_grouped.csv')\n",
    "\n",
    "df_water2 = pd.merge(df_water, df_pool[merge_col], on='locName', how='left')\n",
    "df_water2.to_csv('water_clean_grouped.csv', index=False)"
   ]
  },
  {
   "cell_type": "markdown",
   "metadata": {},
   "source": [
    "# Add season"
   ]
  },
  {
   "cell_type": "markdown",
   "metadata": {},
   "source": [
    "## Four Season"
   ]
  },
  {
   "cell_type": "code",
   "execution_count": 29,
   "metadata": {},
   "outputs": [],
   "source": [
    "def get_season(date):\n",
    "    month = date.month\n",
    "    if 3 <= month <= 5:\n",
    "        return 'Spring'\n",
    "    elif 6 <= month <= 8:\n",
    "        return 'Summer'\n",
    "    elif 9 <= month <= 11:\n",
    "        return 'Autumn'\n",
    "    else:\n",
    "        return 'Winter'\n"
   ]
  },
  {
   "cell_type": "code",
   "execution_count": 30,
   "metadata": {},
   "outputs": [],
   "source": [
    "df_soil2['visitDate'] = df_soil2['visitDate'].apply(pd.to_datetime)\n",
    "df_soil2['Season'] = df_soil2['visitDate'].apply(get_season)\n",
    "# df_soil2.to_csv('soil_clean_grouped.csv', index=False)"
   ]
  },
  {
   "cell_type": "code",
   "execution_count": 31,
   "metadata": {},
   "outputs": [],
   "source": [
    "df_water2['visitDate'] = df_water2['visitDate'].apply(pd.to_datetime)\n",
    "df_water2['Season'] = df_water2['visitDate'].apply(get_season)\n",
    "# df_water2.to_csv('water_clean_grouped.csv', index=False)"
   ]
  },
  {
   "cell_type": "markdown",
   "metadata": {},
   "source": [
    "## Adding Crop Season"
   ]
  },
  {
   "cell_type": "code",
   "execution_count": 32,
   "metadata": {},
   "outputs": [],
   "source": [
    "def crop_season(date_column):\n",
    "    if 5 <= date_column.month <= 9:\n",
    "        return \"Crop_Season\"\n",
    "    else:\n",
    "        return \"Non_Crop_Season\"\n",
    "\n",
    "df_water2['Crop_Season'] = df_water2['visitDate'].apply(crop_season)\n",
    "# df_water2.to_csv('water_clean_grouped.csv', index=False)\n",
    "\n",
    "df_soil2['Crop_Season'] = df_soil2['visitDate'].apply(crop_season)\n",
    "# df_soil2.to_csv('soil_clean_grouped.csv', index=False)"
   ]
  },
  {
   "cell_type": "markdown",
   "metadata": {},
   "source": [
    "## Adding defined seasons    \n",
    "Season 1: 5/2021-10/2021;    \n",
    "Season 2: 11/2021-4/2022;     \n",
    "Season 3: 5/2022-10/2022;    \n",
    "Season 4: 11/2022-4/2023;    \n",
    "Season 5: 5/2023-8/2023    "
   ]
  },
  {
   "cell_type": "code",
   "execution_count": 33,
   "metadata": {},
   "outputs": [],
   "source": [
    "def assign_season(date_column):\n",
    "    if pd.Timestamp('2021-05-01') <= date_column <= pd.Timestamp('2021-10-31'):\n",
    "        return 'Season_1'\n",
    "    elif pd.Timestamp('2021-11-01') <= date_column <= pd.Timestamp('2022-04-30'):\n",
    "        return 'Season_2'\n",
    "    elif pd.Timestamp('2022-05-01') <= date_column <= pd.Timestamp('2022-10-31'):\n",
    "        return 'Season_3'\n",
    "    elif pd.Timestamp('2022-11-01') <= date_column <= pd.Timestamp('2023-04-30'):\n",
    "        return 'Season_4'\n",
    "    elif pd.Timestamp('2023-05-01') <= date_column <= pd.Timestamp('2023-08-31'):\n",
    "        return 'Season_5'\n",
    "    else:\n",
    "        return 'Not in Season'\n",
    "\n",
    "df_water2['Defined_Season'] = df_water2['visitDate'].apply(assign_season)\n",
    "df_water2.sort_values(by='Wetland_ID').to_csv('water_clean_grouped.csv', index=False)\n",
    "\n",
    "df_soil2['Defined_Season'] = df_soil2['visitDate'].apply(assign_season)\n",
    "df_soil2.sort_values(by='Wetland_ID').to_csv('soil_clean_grouped.csv', index=False)"
   ]
  },
  {
   "cell_type": "code",
   "execution_count": 34,
   "metadata": {},
   "outputs": [],
   "source": [
    "soil_colnames=['username',\n",
    " 'map_label',\n",
    " 'project_code',\n",
    " 'sampleMedia',\n",
    " 'combinedID',\n",
    " 'sampleID',\n",
    " 'internalSampleID',\n",
    " 'visitDate',\n",
    " 'dateAnalTPTN',\n",
    " 'TP',\n",
    " 'TN',\n",
    " 'dateAnalM3Ex',\n",
    " 'dateAnalM3ICP',\n",
    " 'm3_P',\n",
    " 'm3_Fe',\n",
    " 'm3_Al',\n",
    " 'SPSC',\n",
    " 'dateAnalWE',\n",
    " 'wEX_P',\n",
    " 'wEX_NH3',\n",
    " 'wEX_NOx',\n",
    " 'dateAnalpH',\n",
    " 'pH',\n",
    " 'dateAnalEC',\n",
    " 'EC',\n",
    " 'samp_type',\n",
    " 'locName',\n",
    " 'Location Sortable',\n",
    " 'specific_location',\n",
    " 'samp_type_1',\n",
    " 'notes',\n",
    " 'samp_notes',\n",
    " 'y',\n",
    " 'x',\n",
    " 'Total_Mean_TP',\n",
    " 'Total_Mean_TN',\n",
    " 'Total_Mean_m3_P',\n",
    " 'Total_Mean_m3_Fe',\n",
    " 'Total_Mean_m3_Al',\n",
    " 'Total_Mean_SPSC',\n",
    " 'Total_Mean_wEX_P',\n",
    " 'Total_Mean_wEX_NH3',\n",
    " 'Total_Mean_wEX_NOx',\n",
    " 'Total_Mean_pH',\n",
    " 'Total_Mean_EC',\n",
    " 'Visit_Mean_TP',\n",
    " 'Visit_Mean_TN',\n",
    " 'Visit_Mean_m3_P',\n",
    " 'Visit_Mean_m3_Fe',\n",
    " 'Visit_Mean_m3_Al',\n",
    " 'Visit_Mean_SPSC',\n",
    " 'Visit_Mean_wEX_P',\n",
    " 'Visit_Mean_wEX_NH3',\n",
    " 'Visit_Mean_wEX_NOx',\n",
    " 'Visit_Mean_pH',\n",
    " 'Visit_Mean_EC',\n",
    " 'Wetland_ID',\n",
    " 'Max Depth  (ft)',\n",
    " 'Slope Range',\n",
    " 'Bottom Deviation of wetland',\n",
    " 'Pool Volume (cu ft)',\n",
    " 'Season',\n",
    " 'Crop_Season',\n",
    " 'Defined_Season']\n",
    "df_soil2.columns= soil_colnames\n"
   ]
  },
  {
   "cell_type": "code",
   "execution_count": 35,
   "metadata": {},
   "outputs": [],
   "source": [
    "df_soil2.sort_values(by='Wetland_ID').to_csv('soil_clean_grouped.csv', index=False)"
   ]
  },
  {
   "cell_type": "code",
   "execution_count": null,
   "metadata": {},
   "outputs": [],
   "source": []
  }
 ],
 "metadata": {
  "kernelspec": {
   "display_name": "Python 3",
   "language": "python",
   "name": "python3"
  },
  "language_info": {
   "codemirror_mode": {
    "name": "ipython",
    "version": 3
   },
   "file_extension": ".py",
   "mimetype": "text/x-python",
   "name": "python",
   "nbconvert_exporter": "python",
   "pygments_lexer": "ipython3",
   "version": "3.11.5"
  }
 },
 "nbformat": 4,
 "nbformat_minor": 2
}
